{
 "cells": [
  {
   "cell_type": "code",
   "execution_count": 2,
   "outputs": [],
   "source": [
    "import os\n",
    "import django\n",
    "\n",
    "# Set the environment variable for Django settings\n",
    "os.environ['DJANGO_SETTINGS_MODULE'] = 'livingstones.settings'\n",
    "\n",
    "# Initialize Django\n",
    "django.setup()\n"
   ],
   "metadata": {
    "collapsed": false,
    "ExecuteTime": {
     "end_time": "2024-05-30T07:52:23.315508Z",
     "start_time": "2024-05-30T07:52:23.247213Z"
    }
   },
   "id": "2f77a8ae93240f3b"
  },
  {
   "cell_type": "code",
   "execution_count": 3,
   "outputs": [
    {
     "ename": "SynchronousOnlyOperation",
     "evalue": "You cannot call this from an async context - use a thread or sync_to_async.",
     "output_type": "error",
     "traceback": [
      "\u001B[0;31m---------------------------------------------------------------------------\u001B[0m",
      "\u001B[0;31mSynchronousOnlyOperation\u001B[0m                  Traceback (most recent call last)",
      "Cell \u001B[0;32mIn[3], line 5\u001B[0m\n\u001B[1;32m      3\u001B[0m \u001B[38;5;66;03m# Example: Get all games\u001B[39;00m\n\u001B[1;32m      4\u001B[0m games \u001B[38;5;241m=\u001B[39m Game\u001B[38;5;241m.\u001B[39mobjects\u001B[38;5;241m.\u001B[39mall()\n\u001B[0;32m----> 5\u001B[0m \u001B[38;5;28;43;01mfor\u001B[39;49;00m\u001B[43m \u001B[49m\u001B[43mgame\u001B[49m\u001B[43m \u001B[49m\u001B[38;5;129;43;01min\u001B[39;49;00m\u001B[43m \u001B[49m\u001B[43mgames\u001B[49m\u001B[43m:\u001B[49m\n\u001B[1;32m      6\u001B[0m \u001B[43m    \u001B[49m\u001B[38;5;28;43mprint\u001B[39;49m\u001B[43m(\u001B[49m\u001B[43mgame\u001B[49m\u001B[43m)\u001B[49m\n",
      "File \u001B[0;32m/Library/Frameworks/Python.framework/Versions/3.11/lib/python3.11/site-packages/django/db/models/query.py:400\u001B[0m, in \u001B[0;36mQuerySet.__iter__\u001B[0;34m(self)\u001B[0m\n\u001B[1;32m    385\u001B[0m \u001B[38;5;28;01mdef\u001B[39;00m \u001B[38;5;21m__iter__\u001B[39m(\u001B[38;5;28mself\u001B[39m):\n\u001B[1;32m    386\u001B[0m \u001B[38;5;250m    \u001B[39m\u001B[38;5;124;03m\"\"\"\u001B[39;00m\n\u001B[1;32m    387\u001B[0m \u001B[38;5;124;03m    The queryset iterator protocol uses three nested iterators in the\u001B[39;00m\n\u001B[1;32m    388\u001B[0m \u001B[38;5;124;03m    default case:\u001B[39;00m\n\u001B[0;32m   (...)\u001B[0m\n\u001B[1;32m    398\u001B[0m \u001B[38;5;124;03m           - Responsible for turning the rows into model objects.\u001B[39;00m\n\u001B[1;32m    399\u001B[0m \u001B[38;5;124;03m    \"\"\"\u001B[39;00m\n\u001B[0;32m--> 400\u001B[0m     \u001B[38;5;28;43mself\u001B[39;49m\u001B[38;5;241;43m.\u001B[39;49m\u001B[43m_fetch_all\u001B[49m\u001B[43m(\u001B[49m\u001B[43m)\u001B[49m\n\u001B[1;32m    401\u001B[0m     \u001B[38;5;28;01mreturn\u001B[39;00m \u001B[38;5;28miter\u001B[39m(\u001B[38;5;28mself\u001B[39m\u001B[38;5;241m.\u001B[39m_result_cache)\n",
      "File \u001B[0;32m/Library/Frameworks/Python.framework/Versions/3.11/lib/python3.11/site-packages/django/db/models/query.py:1928\u001B[0m, in \u001B[0;36mQuerySet._fetch_all\u001B[0;34m(self)\u001B[0m\n\u001B[1;32m   1926\u001B[0m \u001B[38;5;28;01mdef\u001B[39;00m \u001B[38;5;21m_fetch_all\u001B[39m(\u001B[38;5;28mself\u001B[39m):\n\u001B[1;32m   1927\u001B[0m     \u001B[38;5;28;01mif\u001B[39;00m \u001B[38;5;28mself\u001B[39m\u001B[38;5;241m.\u001B[39m_result_cache \u001B[38;5;129;01mis\u001B[39;00m \u001B[38;5;28;01mNone\u001B[39;00m:\n\u001B[0;32m-> 1928\u001B[0m         \u001B[38;5;28mself\u001B[39m\u001B[38;5;241m.\u001B[39m_result_cache \u001B[38;5;241m=\u001B[39m \u001B[38;5;28;43mlist\u001B[39;49m\u001B[43m(\u001B[49m\u001B[38;5;28;43mself\u001B[39;49m\u001B[38;5;241;43m.\u001B[39;49m\u001B[43m_iterable_class\u001B[49m\u001B[43m(\u001B[49m\u001B[38;5;28;43mself\u001B[39;49m\u001B[43m)\u001B[49m\u001B[43m)\u001B[49m\n\u001B[1;32m   1929\u001B[0m     \u001B[38;5;28;01mif\u001B[39;00m \u001B[38;5;28mself\u001B[39m\u001B[38;5;241m.\u001B[39m_prefetch_related_lookups \u001B[38;5;129;01mand\u001B[39;00m \u001B[38;5;129;01mnot\u001B[39;00m \u001B[38;5;28mself\u001B[39m\u001B[38;5;241m.\u001B[39m_prefetch_done:\n\u001B[1;32m   1930\u001B[0m         \u001B[38;5;28mself\u001B[39m\u001B[38;5;241m.\u001B[39m_prefetch_related_objects()\n",
      "File \u001B[0;32m/Library/Frameworks/Python.framework/Versions/3.11/lib/python3.11/site-packages/django/db/models/query.py:91\u001B[0m, in \u001B[0;36mModelIterable.__iter__\u001B[0;34m(self)\u001B[0m\n\u001B[1;32m     88\u001B[0m compiler \u001B[38;5;241m=\u001B[39m queryset\u001B[38;5;241m.\u001B[39mquery\u001B[38;5;241m.\u001B[39mget_compiler(using\u001B[38;5;241m=\u001B[39mdb)\n\u001B[1;32m     89\u001B[0m \u001B[38;5;66;03m# Execute the query. This will also fill compiler.select, klass_info,\u001B[39;00m\n\u001B[1;32m     90\u001B[0m \u001B[38;5;66;03m# and annotations.\u001B[39;00m\n\u001B[0;32m---> 91\u001B[0m results \u001B[38;5;241m=\u001B[39m \u001B[43mcompiler\u001B[49m\u001B[38;5;241;43m.\u001B[39;49m\u001B[43mexecute_sql\u001B[49m\u001B[43m(\u001B[49m\n\u001B[1;32m     92\u001B[0m \u001B[43m    \u001B[49m\u001B[43mchunked_fetch\u001B[49m\u001B[38;5;241;43m=\u001B[39;49m\u001B[38;5;28;43mself\u001B[39;49m\u001B[38;5;241;43m.\u001B[39;49m\u001B[43mchunked_fetch\u001B[49m\u001B[43m,\u001B[49m\u001B[43m \u001B[49m\u001B[43mchunk_size\u001B[49m\u001B[38;5;241;43m=\u001B[39;49m\u001B[38;5;28;43mself\u001B[39;49m\u001B[38;5;241;43m.\u001B[39;49m\u001B[43mchunk_size\u001B[49m\n\u001B[1;32m     93\u001B[0m \u001B[43m\u001B[49m\u001B[43m)\u001B[49m\n\u001B[1;32m     94\u001B[0m select, klass_info, annotation_col_map \u001B[38;5;241m=\u001B[39m (\n\u001B[1;32m     95\u001B[0m     compiler\u001B[38;5;241m.\u001B[39mselect,\n\u001B[1;32m     96\u001B[0m     compiler\u001B[38;5;241m.\u001B[39mklass_info,\n\u001B[1;32m     97\u001B[0m     compiler\u001B[38;5;241m.\u001B[39mannotation_col_map,\n\u001B[1;32m     98\u001B[0m )\n\u001B[1;32m     99\u001B[0m model_cls \u001B[38;5;241m=\u001B[39m klass_info[\u001B[38;5;124m\"\u001B[39m\u001B[38;5;124mmodel\u001B[39m\u001B[38;5;124m\"\u001B[39m]\n",
      "File \u001B[0;32m/Library/Frameworks/Python.framework/Versions/3.11/lib/python3.11/site-packages/django/db/models/sql/compiler.py:1560\u001B[0m, in \u001B[0;36mSQLCompiler.execute_sql\u001B[0;34m(self, result_type, chunked_fetch, chunk_size)\u001B[0m\n\u001B[1;32m   1558\u001B[0m     cursor \u001B[38;5;241m=\u001B[39m \u001B[38;5;28mself\u001B[39m\u001B[38;5;241m.\u001B[39mconnection\u001B[38;5;241m.\u001B[39mchunked_cursor()\n\u001B[1;32m   1559\u001B[0m \u001B[38;5;28;01melse\u001B[39;00m:\n\u001B[0;32m-> 1560\u001B[0m     cursor \u001B[38;5;241m=\u001B[39m \u001B[38;5;28;43mself\u001B[39;49m\u001B[38;5;241;43m.\u001B[39;49m\u001B[43mconnection\u001B[49m\u001B[38;5;241;43m.\u001B[39;49m\u001B[43mcursor\u001B[49m\u001B[43m(\u001B[49m\u001B[43m)\u001B[49m\n\u001B[1;32m   1561\u001B[0m \u001B[38;5;28;01mtry\u001B[39;00m:\n\u001B[1;32m   1562\u001B[0m     cursor\u001B[38;5;241m.\u001B[39mexecute(sql, params)\n",
      "File \u001B[0;32m/Library/Frameworks/Python.framework/Versions/3.11/lib/python3.11/site-packages/django/utils/asyncio.py:24\u001B[0m, in \u001B[0;36masync_unsafe.<locals>.decorator.<locals>.inner\u001B[0;34m(*args, **kwargs)\u001B[0m\n\u001B[1;32m     22\u001B[0m \u001B[38;5;28;01melse\u001B[39;00m:\n\u001B[1;32m     23\u001B[0m     \u001B[38;5;28;01mif\u001B[39;00m \u001B[38;5;129;01mnot\u001B[39;00m os\u001B[38;5;241m.\u001B[39menviron\u001B[38;5;241m.\u001B[39mget(\u001B[38;5;124m\"\u001B[39m\u001B[38;5;124mDJANGO_ALLOW_ASYNC_UNSAFE\u001B[39m\u001B[38;5;124m\"\u001B[39m):\n\u001B[0;32m---> 24\u001B[0m         \u001B[38;5;28;01mraise\u001B[39;00m SynchronousOnlyOperation(message)\n\u001B[1;32m     25\u001B[0m \u001B[38;5;66;03m# Pass onward.\u001B[39;00m\n\u001B[1;32m     26\u001B[0m \u001B[38;5;28;01mreturn\u001B[39;00m func(\u001B[38;5;241m*\u001B[39margs, \u001B[38;5;241m*\u001B[39m\u001B[38;5;241m*\u001B[39mkwargs)\n",
      "\u001B[0;31mSynchronousOnlyOperation\u001B[0m: You cannot call this from an async context - use a thread or sync_to_async."
     ]
    }
   ],
   "source": [
    "from livingstonesapp.models import Game, GamePlayer, Attack\n",
    "\n",
    "# Example: Get all games\n",
    "games = Game.objects.all()\n",
    "for game in games:\n",
    "    print(game)"
   ],
   "metadata": {
    "collapsed": false,
    "ExecuteTime": {
     "end_time": "2024-05-30T07:52:46.568568Z",
     "start_time": "2024-05-30T07:52:46.411517Z"
    }
   },
   "id": "7bbbe62cc633d8c8"
  },
  {
   "cell_type": "code",
   "execution_count": 4,
   "outputs": [
    {
     "ename": "SynchronousOnlyOperation",
     "evalue": "You cannot call this from an async context - use a thread or sync_to_async.",
     "output_type": "error",
     "traceback": [
      "\u001B[0;31m---------------------------------------------------------------------------\u001B[0m",
      "\u001B[0;31mSynchronousOnlyOperation\u001B[0m                  Traceback (most recent call last)",
      "Cell \u001B[0;32mIn[4], line 2\u001B[0m\n\u001B[1;32m      1\u001B[0m \u001B[38;5;66;03m# Example: Get all players in a game\u001B[39;00m\n\u001B[0;32m----> 2\u001B[0m game \u001B[38;5;241m=\u001B[39m \u001B[43mGame\u001B[49m\u001B[38;5;241;43m.\u001B[39;49m\u001B[43mobjects\u001B[49m\u001B[38;5;241;43m.\u001B[39;49m\u001B[43mfirst\u001B[49m\u001B[43m(\u001B[49m\u001B[43m)\u001B[49m\n\u001B[1;32m      3\u001B[0m players \u001B[38;5;241m=\u001B[39m game\u001B[38;5;241m.\u001B[39mplayers\u001B[38;5;241m.\u001B[39mall()\n\u001B[1;32m      4\u001B[0m \u001B[38;5;28;01mfor\u001B[39;00m player \u001B[38;5;129;01min\u001B[39;00m players:\n",
      "File \u001B[0;32m/Library/Frameworks/Python.framework/Versions/3.11/lib/python3.11/site-packages/django/db/models/manager.py:87\u001B[0m, in \u001B[0;36mBaseManager._get_queryset_methods.<locals>.create_method.<locals>.manager_method\u001B[0;34m(self, *args, **kwargs)\u001B[0m\n\u001B[1;32m     85\u001B[0m \u001B[38;5;129m@wraps\u001B[39m(method)\n\u001B[1;32m     86\u001B[0m \u001B[38;5;28;01mdef\u001B[39;00m \u001B[38;5;21mmanager_method\u001B[39m(\u001B[38;5;28mself\u001B[39m, \u001B[38;5;241m*\u001B[39margs, \u001B[38;5;241m*\u001B[39m\u001B[38;5;241m*\u001B[39mkwargs):\n\u001B[0;32m---> 87\u001B[0m     \u001B[38;5;28;01mreturn\u001B[39;00m \u001B[38;5;28;43mgetattr\u001B[39;49m\u001B[43m(\u001B[49m\u001B[38;5;28;43mself\u001B[39;49m\u001B[38;5;241;43m.\u001B[39;49m\u001B[43mget_queryset\u001B[49m\u001B[43m(\u001B[49m\u001B[43m)\u001B[49m\u001B[43m,\u001B[49m\u001B[43m \u001B[49m\u001B[43mname\u001B[49m\u001B[43m)\u001B[49m\u001B[43m(\u001B[49m\u001B[38;5;241;43m*\u001B[39;49m\u001B[43margs\u001B[49m\u001B[43m,\u001B[49m\u001B[43m \u001B[49m\u001B[38;5;241;43m*\u001B[39;49m\u001B[38;5;241;43m*\u001B[39;49m\u001B[43mkwargs\u001B[49m\u001B[43m)\u001B[49m\n",
      "File \u001B[0;32m/Library/Frameworks/Python.framework/Versions/3.11/lib/python3.11/site-packages/django/db/models/query.py:1097\u001B[0m, in \u001B[0;36mQuerySet.first\u001B[0;34m(self)\u001B[0m\n\u001B[1;32m   1095\u001B[0m     \u001B[38;5;28mself\u001B[39m\u001B[38;5;241m.\u001B[39m_check_ordering_first_last_queryset_aggregation(method\u001B[38;5;241m=\u001B[39m\u001B[38;5;124m\"\u001B[39m\u001B[38;5;124mfirst\u001B[39m\u001B[38;5;124m\"\u001B[39m)\n\u001B[1;32m   1096\u001B[0m     queryset \u001B[38;5;241m=\u001B[39m \u001B[38;5;28mself\u001B[39m\u001B[38;5;241m.\u001B[39morder_by(\u001B[38;5;124m\"\u001B[39m\u001B[38;5;124mpk\u001B[39m\u001B[38;5;124m\"\u001B[39m)\n\u001B[0;32m-> 1097\u001B[0m \u001B[43m\u001B[49m\u001B[38;5;28;43;01mfor\u001B[39;49;00m\u001B[43m \u001B[49m\u001B[43mobj\u001B[49m\u001B[43m \u001B[49m\u001B[38;5;129;43;01min\u001B[39;49;00m\u001B[43m \u001B[49m\u001B[43mqueryset\u001B[49m\u001B[43m[\u001B[49m\u001B[43m:\u001B[49m\u001B[38;5;241;43m1\u001B[39;49m\u001B[43m]\u001B[49m\u001B[43m:\u001B[49m\n\u001B[1;32m   1098\u001B[0m \u001B[43m    \u001B[49m\u001B[38;5;28;43;01mreturn\u001B[39;49;00m\u001B[43m \u001B[49m\u001B[43mobj\u001B[49m\n",
      "File \u001B[0;32m/Library/Frameworks/Python.framework/Versions/3.11/lib/python3.11/site-packages/django/db/models/query.py:400\u001B[0m, in \u001B[0;36mQuerySet.__iter__\u001B[0;34m(self)\u001B[0m\n\u001B[1;32m    385\u001B[0m \u001B[38;5;28;01mdef\u001B[39;00m \u001B[38;5;21m__iter__\u001B[39m(\u001B[38;5;28mself\u001B[39m):\n\u001B[1;32m    386\u001B[0m \u001B[38;5;250m    \u001B[39m\u001B[38;5;124;03m\"\"\"\u001B[39;00m\n\u001B[1;32m    387\u001B[0m \u001B[38;5;124;03m    The queryset iterator protocol uses three nested iterators in the\u001B[39;00m\n\u001B[1;32m    388\u001B[0m \u001B[38;5;124;03m    default case:\u001B[39;00m\n\u001B[0;32m   (...)\u001B[0m\n\u001B[1;32m    398\u001B[0m \u001B[38;5;124;03m           - Responsible for turning the rows into model objects.\u001B[39;00m\n\u001B[1;32m    399\u001B[0m \u001B[38;5;124;03m    \"\"\"\u001B[39;00m\n\u001B[0;32m--> 400\u001B[0m     \u001B[38;5;28;43mself\u001B[39;49m\u001B[38;5;241;43m.\u001B[39;49m\u001B[43m_fetch_all\u001B[49m\u001B[43m(\u001B[49m\u001B[43m)\u001B[49m\n\u001B[1;32m    401\u001B[0m     \u001B[38;5;28;01mreturn\u001B[39;00m \u001B[38;5;28miter\u001B[39m(\u001B[38;5;28mself\u001B[39m\u001B[38;5;241m.\u001B[39m_result_cache)\n",
      "File \u001B[0;32m/Library/Frameworks/Python.framework/Versions/3.11/lib/python3.11/site-packages/django/db/models/query.py:1928\u001B[0m, in \u001B[0;36mQuerySet._fetch_all\u001B[0;34m(self)\u001B[0m\n\u001B[1;32m   1926\u001B[0m \u001B[38;5;28;01mdef\u001B[39;00m \u001B[38;5;21m_fetch_all\u001B[39m(\u001B[38;5;28mself\u001B[39m):\n\u001B[1;32m   1927\u001B[0m     \u001B[38;5;28;01mif\u001B[39;00m \u001B[38;5;28mself\u001B[39m\u001B[38;5;241m.\u001B[39m_result_cache \u001B[38;5;129;01mis\u001B[39;00m \u001B[38;5;28;01mNone\u001B[39;00m:\n\u001B[0;32m-> 1928\u001B[0m         \u001B[38;5;28mself\u001B[39m\u001B[38;5;241m.\u001B[39m_result_cache \u001B[38;5;241m=\u001B[39m \u001B[38;5;28;43mlist\u001B[39;49m\u001B[43m(\u001B[49m\u001B[38;5;28;43mself\u001B[39;49m\u001B[38;5;241;43m.\u001B[39;49m\u001B[43m_iterable_class\u001B[49m\u001B[43m(\u001B[49m\u001B[38;5;28;43mself\u001B[39;49m\u001B[43m)\u001B[49m\u001B[43m)\u001B[49m\n\u001B[1;32m   1929\u001B[0m     \u001B[38;5;28;01mif\u001B[39;00m \u001B[38;5;28mself\u001B[39m\u001B[38;5;241m.\u001B[39m_prefetch_related_lookups \u001B[38;5;129;01mand\u001B[39;00m \u001B[38;5;129;01mnot\u001B[39;00m \u001B[38;5;28mself\u001B[39m\u001B[38;5;241m.\u001B[39m_prefetch_done:\n\u001B[1;32m   1930\u001B[0m         \u001B[38;5;28mself\u001B[39m\u001B[38;5;241m.\u001B[39m_prefetch_related_objects()\n",
      "File \u001B[0;32m/Library/Frameworks/Python.framework/Versions/3.11/lib/python3.11/site-packages/django/db/models/query.py:91\u001B[0m, in \u001B[0;36mModelIterable.__iter__\u001B[0;34m(self)\u001B[0m\n\u001B[1;32m     88\u001B[0m compiler \u001B[38;5;241m=\u001B[39m queryset\u001B[38;5;241m.\u001B[39mquery\u001B[38;5;241m.\u001B[39mget_compiler(using\u001B[38;5;241m=\u001B[39mdb)\n\u001B[1;32m     89\u001B[0m \u001B[38;5;66;03m# Execute the query. This will also fill compiler.select, klass_info,\u001B[39;00m\n\u001B[1;32m     90\u001B[0m \u001B[38;5;66;03m# and annotations.\u001B[39;00m\n\u001B[0;32m---> 91\u001B[0m results \u001B[38;5;241m=\u001B[39m \u001B[43mcompiler\u001B[49m\u001B[38;5;241;43m.\u001B[39;49m\u001B[43mexecute_sql\u001B[49m\u001B[43m(\u001B[49m\n\u001B[1;32m     92\u001B[0m \u001B[43m    \u001B[49m\u001B[43mchunked_fetch\u001B[49m\u001B[38;5;241;43m=\u001B[39;49m\u001B[38;5;28;43mself\u001B[39;49m\u001B[38;5;241;43m.\u001B[39;49m\u001B[43mchunked_fetch\u001B[49m\u001B[43m,\u001B[49m\u001B[43m \u001B[49m\u001B[43mchunk_size\u001B[49m\u001B[38;5;241;43m=\u001B[39;49m\u001B[38;5;28;43mself\u001B[39;49m\u001B[38;5;241;43m.\u001B[39;49m\u001B[43mchunk_size\u001B[49m\n\u001B[1;32m     93\u001B[0m \u001B[43m\u001B[49m\u001B[43m)\u001B[49m\n\u001B[1;32m     94\u001B[0m select, klass_info, annotation_col_map \u001B[38;5;241m=\u001B[39m (\n\u001B[1;32m     95\u001B[0m     compiler\u001B[38;5;241m.\u001B[39mselect,\n\u001B[1;32m     96\u001B[0m     compiler\u001B[38;5;241m.\u001B[39mklass_info,\n\u001B[1;32m     97\u001B[0m     compiler\u001B[38;5;241m.\u001B[39mannotation_col_map,\n\u001B[1;32m     98\u001B[0m )\n\u001B[1;32m     99\u001B[0m model_cls \u001B[38;5;241m=\u001B[39m klass_info[\u001B[38;5;124m\"\u001B[39m\u001B[38;5;124mmodel\u001B[39m\u001B[38;5;124m\"\u001B[39m]\n",
      "File \u001B[0;32m/Library/Frameworks/Python.framework/Versions/3.11/lib/python3.11/site-packages/django/db/models/sql/compiler.py:1560\u001B[0m, in \u001B[0;36mSQLCompiler.execute_sql\u001B[0;34m(self, result_type, chunked_fetch, chunk_size)\u001B[0m\n\u001B[1;32m   1558\u001B[0m     cursor \u001B[38;5;241m=\u001B[39m \u001B[38;5;28mself\u001B[39m\u001B[38;5;241m.\u001B[39mconnection\u001B[38;5;241m.\u001B[39mchunked_cursor()\n\u001B[1;32m   1559\u001B[0m \u001B[38;5;28;01melse\u001B[39;00m:\n\u001B[0;32m-> 1560\u001B[0m     cursor \u001B[38;5;241m=\u001B[39m \u001B[38;5;28;43mself\u001B[39;49m\u001B[38;5;241;43m.\u001B[39;49m\u001B[43mconnection\u001B[49m\u001B[38;5;241;43m.\u001B[39;49m\u001B[43mcursor\u001B[49m\u001B[43m(\u001B[49m\u001B[43m)\u001B[49m\n\u001B[1;32m   1561\u001B[0m \u001B[38;5;28;01mtry\u001B[39;00m:\n\u001B[1;32m   1562\u001B[0m     cursor\u001B[38;5;241m.\u001B[39mexecute(sql, params)\n",
      "File \u001B[0;32m/Library/Frameworks/Python.framework/Versions/3.11/lib/python3.11/site-packages/django/utils/asyncio.py:24\u001B[0m, in \u001B[0;36masync_unsafe.<locals>.decorator.<locals>.inner\u001B[0;34m(*args, **kwargs)\u001B[0m\n\u001B[1;32m     22\u001B[0m \u001B[38;5;28;01melse\u001B[39;00m:\n\u001B[1;32m     23\u001B[0m     \u001B[38;5;28;01mif\u001B[39;00m \u001B[38;5;129;01mnot\u001B[39;00m os\u001B[38;5;241m.\u001B[39menviron\u001B[38;5;241m.\u001B[39mget(\u001B[38;5;124m\"\u001B[39m\u001B[38;5;124mDJANGO_ALLOW_ASYNC_UNSAFE\u001B[39m\u001B[38;5;124m\"\u001B[39m):\n\u001B[0;32m---> 24\u001B[0m         \u001B[38;5;28;01mraise\u001B[39;00m SynchronousOnlyOperation(message)\n\u001B[1;32m     25\u001B[0m \u001B[38;5;66;03m# Pass onward.\u001B[39;00m\n\u001B[1;32m     26\u001B[0m \u001B[38;5;28;01mreturn\u001B[39;00m func(\u001B[38;5;241m*\u001B[39margs, \u001B[38;5;241m*\u001B[39m\u001B[38;5;241m*\u001B[39mkwargs)\n",
      "\u001B[0;31mSynchronousOnlyOperation\u001B[0m: You cannot call this from an async context - use a thread or sync_to_async."
     ]
    }
   ],
   "source": [
    "# Example: Get all players in a game\n",
    "game = Game.objects.first()\n",
    "players = game.players.all()\n",
    "for player in players:\n",
    "    print(player)"
   ],
   "metadata": {
    "collapsed": false,
    "ExecuteTime": {
     "end_time": "2024-05-30T07:53:04.394495Z",
     "start_time": "2024-05-30T07:53:04.353758Z"
    }
   },
   "id": "61b6661d37f5773f"
  },
  {
   "cell_type": "code",
   "execution_count": null,
   "outputs": [],
   "source": [],
   "metadata": {
    "collapsed": false
   },
   "id": "d5178ee0fa177807"
  }
 ],
 "metadata": {
  "kernelspec": {
   "display_name": "Python 3",
   "language": "python",
   "name": "python3"
  },
  "language_info": {
   "codemirror_mode": {
    "name": "ipython",
    "version": 2
   },
   "file_extension": ".py",
   "mimetype": "text/x-python",
   "name": "python",
   "nbconvert_exporter": "python",
   "pygments_lexer": "ipython2",
   "version": "2.7.6"
  }
 },
 "nbformat": 4,
 "nbformat_minor": 5
}
